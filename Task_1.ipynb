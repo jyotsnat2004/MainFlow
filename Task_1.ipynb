{
  "nbformat": 4,
  "nbformat_minor": 0,
  "metadata": {
    "colab": {
      "provenance": []
    },
    "kernelspec": {
      "name": "python3",
      "display_name": "Python 3"
    },
    "language_info": {
      "name": "python"
    }
  },
  "cells": [
    {
      "cell_type": "code",
      "execution_count": 1,
      "metadata": {
        "colab": {
          "base_uri": "https://localhost:8080/"
        },
        "id": "meJArntTwOle",
        "outputId": "c3dc7fda-96b2-4538-ac34-40daee457574"
      },
      "outputs": [
        {
          "output_type": "stream",
          "name": "stdout",
          "text": [
            "List Operations\n",
            "Initial list: [1, 2, 3, 4, 5]\n",
            "List after appending 6: [1, 2, 3, 4, 5, 6]\n",
            "List after removing 3: [1, 2, 4, 5, 6]\n",
            "List after modifying the third element to 10: [1, 2, 10, 5, 6]\n"
          ]
        }
      ],
      "source": [
        "# List operations\n",
        "print(\"List Operations\")\n",
        "# Create a list\n",
        "my_list = [1, 2, 3, 4, 5]\n",
        "print(\"Initial list:\", my_list)\n",
        "\n",
        "# Add an element to the list\n",
        "my_list.append(6)\n",
        "print(\"List after appending 6:\", my_list)\n",
        "\n",
        "# Remove an element from the list\n",
        "my_list.remove(3)\n",
        "print(\"List after removing 3:\", my_list)\n",
        "\n",
        "# Modify an element in the list\n",
        "my_list[2] = 10\n",
        "print(\"List after modifying the third element to 10:\", my_list)"
      ]
    },
    {
      "cell_type": "code",
      "source": [
        "# Dictionary operations\n",
        "print(\"\\nDictionary Operations\")\n",
        "# Create a dictionary\n",
        "my_dict = {'a': 1, 'b': 2, 'c': 3}\n",
        "print(\"Initial dictionary:\", my_dict)\n",
        "\n",
        "# Add a key-value pair to the dictionary\n",
        "my_dict['d'] = 4\n",
        "print(\"Dictionary after adding ('d': 4):\", my_dict)\n",
        "\n",
        "# Remove a key-value pair from the dictionary\n",
        "del my_dict['b']\n",
        "print(\"Dictionary after removing key 'b':\", my_dict)\n",
        "\n",
        "# Modify a value in the dictionary\n",
        "my_dict['a'] = 10\n",
        "print(\"Dictionary after modifying key 'a' to 10:\", my_dict)"
      ],
      "metadata": {
        "colab": {
          "base_uri": "https://localhost:8080/"
        },
        "id": "L0tC-BHxwURc",
        "outputId": "63e27f5c-955c-45d2-d794-fa895112d07d"
      },
      "execution_count": 2,
      "outputs": [
        {
          "output_type": "stream",
          "name": "stdout",
          "text": [
            "\n",
            "Dictionary Operations\n",
            "Initial dictionary: {'a': 1, 'b': 2, 'c': 3}\n",
            "Dictionary after adding ('d': 4): {'a': 1, 'b': 2, 'c': 3, 'd': 4}\n",
            "Dictionary after removing key 'b': {'a': 1, 'c': 3, 'd': 4}\n",
            "Dictionary after modifying key 'a' to 10: {'a': 10, 'c': 3, 'd': 4}\n"
          ]
        }
      ]
    },
    {
      "cell_type": "code",
      "source": [
        "# Set operations\n",
        "print(\"\\nSet Operations\")\n",
        "# Create a set\n",
        "my_set = {1, 2, 3, 4, 5}\n",
        "print(\"Initial set:\", my_set)\n",
        "\n",
        "# Add an element to the set\n",
        "my_set.add(6)\n",
        "print(\"Set after adding 6:\", my_set)\n",
        "\n",
        "# Remove an element from the set\n",
        "my_set.discard(3)\n",
        "print(\"Set after discarding 3:\", my_set)\n",
        "\n",
        "# Modify the set (since sets are unordered and do not support indexing,\n",
        "# modification is typically done by removing and adding elements)\n",
        "my_set.discard(2)\n",
        "my_set.add(10)\n",
        "print(\"Set after removing 2 and adding 10:\", my_set)"
      ],
      "metadata": {
        "colab": {
          "base_uri": "https://localhost:8080/"
        },
        "id": "KQIiMgAHwaMP",
        "outputId": "36f33d6c-c255-4756-afde-8b869a80b519"
      },
      "execution_count": 3,
      "outputs": [
        {
          "output_type": "stream",
          "name": "stdout",
          "text": [
            "\n",
            "Set Operations\n",
            "Initial set: {1, 2, 3, 4, 5}\n",
            "Set after adding 6: {1, 2, 3, 4, 5, 6}\n",
            "Set after discarding 3: {1, 2, 4, 5, 6}\n",
            "Set after removing 2 and adding 10: {1, 4, 5, 6, 10}\n"
          ]
        }
      ]
    },
    {
      "cell_type": "code",
      "source": [],
      "metadata": {
        "id": "BaKXqMxgwdxn"
      },
      "execution_count": null,
      "outputs": []
    }
  ]
}